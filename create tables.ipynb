{
 "cells": [
  {
   "cell_type": "code",
   "execution_count": 7,
   "id": "334e41f8-b9af-43b5-b6d2-6d5be7f1587b",
   "metadata": {},
   "outputs": [],
   "source": [
    "import sqlite3\n"
   ]
  },
  {
   "cell_type": "code",
   "execution_count": 9,
   "id": "e76d33f6-b689-4ff9-8486-dde10e0d1200",
   "metadata": {},
   "outputs": [],
   "source": [
    "#connect to database\n",
    "conn = sqlite3.connect(\"company.db\")\n",
    "cursor = conn.cursor()"
   ]
  },
  {
   "cell_type": "code",
   "execution_count": 11,
   "id": "2ed4ff28-0ad0-4fc5-a177-f25ef63f53ec",
   "metadata": {},
   "outputs": [
    {
     "data": {
      "text/plain": [
       "<sqlite3.Cursor at 0x2a2d2fa9040>"
      ]
     },
     "execution_count": 11,
     "metadata": {},
     "output_type": "execute_result"
    }
   ],
   "source": [
    "# create Employees table\n",
    "cursor.execute(\"\"\"\n",
    "CREATE TABLE IF NOT EXISTS Employees (\n",
    "    employee_id INT PRIMARY KEY,\n",
    "    name TEXT,\n",
    "    department TEXT,\n",
    "    joining_date DATE\n",
    ")\n",
    "\"\"\")\n",
    "\n",
    "\n",
    "\n"
   ]
  },
  {
   "cell_type": "code",
   "execution_count": 13,
   "id": "258cdc4b-5d81-4193-96bc-b2a383b978d5",
   "metadata": {},
   "outputs": [],
   "source": [
    "conn.commit()"
   ]
  },
  {
   "cell_type": "code",
   "execution_count": 15,
   "id": "083c0e45-97bb-48e6-8d47-f60b7cd97b0f",
   "metadata": {},
   "outputs": [],
   "source": [
    "#insert employee data\n",
    "cursor.execute(\"INSERT INTO Employees VALUES (1, 'Alice', 'HR', '2023-01-15')\")\n",
    "cursor.execute(\"INSERT INTO Employees VALUES (2, 'Bob', 'IT', '2023-02-01')\")\n",
    "conn.commit()"
   ]
  },
  {
   "cell_type": "code",
   "execution_count": 17,
   "id": "15cdf19c-958a-424f-80e2-c9dd72a5c365",
   "metadata": {},
   "outputs": [
    {
     "name": "stdout",
     "output_type": "stream",
     "text": [
      "[(1, 'Alice', 'HR', '2023-01-15'), (2, 'Bob', 'IT', '2023-02-01')]\n"
     ]
    }
   ],
   "source": [
    "#Fetch Employee Data\n",
    "cursor.execute(\"SELECT * FROM Employees\")\n",
    "print(cursor.fetchall())"
   ]
  },
  {
   "cell_type": "code",
   "execution_count": 31,
   "id": "b110692f-1ea8-4029-8408-8f8508388a5f",
   "metadata": {},
   "outputs": [
    {
     "data": {
      "text/plain": [
       "<sqlite3.Cursor at 0x2a2d2fa9040>"
      ]
     },
     "execution_count": 31,
     "metadata": {},
     "output_type": "execute_result"
    }
   ],
   "source": [
    "# create Attendance table table\n",
    "cursor.execute(\"\"\"\n",
    "CREATE TABLE IF NOT EXISTS Attendance (\n",
    "    attendance_id INT PRIMARY KEY,\n",
    "    employee_id INT \n",
    "    Date DATE,\n",
    "    Status VARCHAR(10),-- present/Absent/Late,\n",
    "    FOREIGN KEY (employee_id) REFERENCES Attendance(employee_id)\n",
    ")\n",
    "\"\"\")"
   ]
  },
  {
   "cell_type": "code",
   "execution_count": 33,
   "id": "287595b6-7c87-4a30-9f3f-1cef96e0ac6d",
   "metadata": {},
   "outputs": [],
   "source": [
    "conn.commit()"
   ]
  },
  {
   "cell_type": "code",
   "execution_count": 39,
   "id": "1a710f55-eab8-4dc0-bc28-598359aa735b",
   "metadata": {},
   "outputs": [],
   "source": [
    "#insert ATTENDANCE data\n",
    "cursor.execute(\"INSERT INTO Attendance VALUES (1,'2023-01-15','present')\")\n",
    "cursor.execute(\"INSERT INTO Attendance VALUES (2, '2023-02-01','Late')\")\n",
    "conn.commit()"
   ]
  },
  {
   "cell_type": "code",
   "execution_count": 41,
   "id": "42588f8d-bfc6-4568-8432-b194438dd5d6",
   "metadata": {},
   "outputs": [
    {
     "name": "stdout",
     "output_type": "stream",
     "text": [
      "[(1, '2023-01-15', 'present'), (2, '2023-02-01', 'Late')]\n"
     ]
    }
   ],
   "source": [
    "#Fetch Attendance Data\n",
    "cursor.execute(\"SELECT * FROM Attendance\")\n",
    "print(cursor.fetchall())"
   ]
  },
  {
   "cell_type": "code",
   "execution_count": 49,
   "id": "9757ee67-b5bb-4c92-936d-0dfd12dec9c9",
   "metadata": {},
   "outputs": [
    {
     "data": {
      "text/plain": [
       "<sqlite3.Cursor at 0x2a2d2fa9040>"
      ]
     },
     "execution_count": 49,
     "metadata": {},
     "output_type": "execute_result"
    }
   ],
   "source": [
    "# createperformance table\n",
    "cursor.execute(\"\"\"\n",
    "CREATE TABLE IF NOT EXISTS Performance (\n",
    "  performance_id INT PRIMARY KEY,\n",
    "    employee_id INT,\n",
    "    review_date DATE,\n",
    "    score INT, -- 1 to 10\n",
    "    FOREIGN KEY (employee_id) REFERENCES Performance(employee_id)\n",
    ")\n",
    "\"\"\")"
   ]
  },
  {
   "cell_type": "code",
   "execution_count": 51,
   "id": "3fc9e36f-f950-4f68-a14b-73e1a3a73e30",
   "metadata": {},
   "outputs": [],
   "source": [
    "conn.commit()"
   ]
  },
  {
   "cell_type": "code",
   "execution_count": 57,
   "id": "c65728ff-e710-43c0-a0ef-8fe34f1a56f3",
   "metadata": {},
   "outputs": [],
   "source": [
    "#insert Performance data\n",
    "cursor.execute(\"INSERT INTO Performance VALUES (1, 2052, '2023-01-15',5)\")\n",
    "cursor.execute(\"INSERT INTO Performance VALUES (2, 2062, '2023-02-01',10)\")\n",
    "conn.commit()"
   ]
  },
  {
   "cell_type": "code",
   "execution_count": 59,
   "id": "193ad37c-b1a0-4abe-8f79-ba6251e84984",
   "metadata": {},
   "outputs": [
    {
     "name": "stdout",
     "output_type": "stream",
     "text": [
      "[(1, 2052, '2023-01-15', 5), (2, 2062, '2023-02-01', 10)]\n"
     ]
    }
   ],
   "source": [
    "#Fetch Performance Data\n",
    "cursor.execute(\"SELECT * FROM Performance\")\n",
    "print(cursor.fetchall())"
   ]
  },
  {
   "cell_type": "code",
   "execution_count": 67,
   "id": "a5e25fff-f3d9-465d-9efb-14f8fea01763",
   "metadata": {},
   "outputs": [],
   "source": [
    "import pandas as pd"
   ]
  },
  {
   "cell_type": "code",
   "execution_count": 75,
   "id": "af4e1e6f-345e-4c79-a5db-8be2cb24be7d",
   "metadata": {},
   "outputs": [
    {
     "name": "stdout",
     "output_type": "stream",
     "text": [
      "Empty DataFrame\n",
      "Columns: [name, avg_score]\n",
      "Index: []\n"
     ]
    }
   ],
   "source": [
    "performance = pd.read_sql_query(\"\"\"\n",
    "    SELECT e.name, AVG(p.score) as avg_score\n",
    "    FROM Employees e\n",
    "    JOIN Performance p ON e.employee_id = p.employee_id\n",
    "    GROUP BY e.name\n",
    "\"\"\", conn)\n",
    "print(performance)"
   ]
  },
  {
   "cell_type": "code",
   "execution_count": null,
   "id": "efd34168-0e33-44d4-a16d-f209c4f25d8b",
   "metadata": {},
   "outputs": [],
   "source": []
  }
 ],
 "metadata": {
  "kernelspec": {
   "display_name": "Python [conda env:base] *",
   "language": "python",
   "name": "conda-base-py"
  },
  "language_info": {
   "codemirror_mode": {
    "name": "ipython",
    "version": 3
   },
   "file_extension": ".py",
   "mimetype": "text/x-python",
   "name": "python",
   "nbconvert_exporter": "python",
   "pygments_lexer": "ipython3",
   "version": "3.12.7"
  }
 },
 "nbformat": 4,
 "nbformat_minor": 5
}
