{
 "cells": [
  {
   "cell_type": "code",
   "execution_count": 1,
   "id": "182af04e-9fc5-4d54-b75c-117ad7228251",
   "metadata": {},
   "outputs": [],
   "source": [
    "#password generator\n",
    "import random\n",
    "import string"
   ]
  },
  {
   "cell_type": "code",
   "execution_count": 5,
   "id": "e9a70015-6571-41d7-9120-a47438439c2c",
   "metadata": {},
   "outputs": [],
   "source": [
    "def generate_password(length, use_uppercase=True, use_digits=True, use_symbols=True):\n",
    "    # Base character set (lowercase letters)\n",
    "    characters = string.ascii_lowercase\n",
    "    \n",
    "    if use_uppercase:\n",
    "        characters += string.ascii_uppercase\n",
    "    if use_digits:\n",
    "        characters += string.digits\n",
    "    if use_symbols:\n",
    "        characters += string.punctuation\n",
    "    \n",
    "    # Generate password\n",
    "    password = ''.join(random.choice(characters) for _ in range(length))\n",
    "    return password"
   ]
  },
  {
   "cell_type": "code",
   "execution_count": 19,
   "id": "c622490a-30d2-446d-b677-5cd38a1d3c84",
   "metadata": {},
   "outputs": [
    {
     "name": "stdout",
     "output_type": "stream",
     "text": [
      "=== Password Generator ===\n"
     ]
    },
    {
     "name": "stdin",
     "output_type": "stream",
     "text": [
      "Enter password length:  20\n",
      "Include uppercase letters? (y/n):  y\n",
      "Include digits? (y/n):  y\n",
      "Include symbols? (y/n):  n\n"
     ]
    },
    {
     "name": "stdout",
     "output_type": "stream",
     "text": [
      "\n",
      "Generated Password: 2TSPbfdwnan4Iv5IZl9I\n"
     ]
    }
   ],
   "source": [
    "def main():\n",
    "    print(\"=== Password Generator ===\")\n",
    "    \n",
    "    # Get user input\n",
    "    length = int(input(\"Enter password length: \"))\n",
    "    use_uppercase = input(\"Include uppercase letters? (y/n): \").lower() == 'y'\n",
    "    use_digits = input(\"Include digits? (y/n): \").lower() == 'y'\n",
    "    use_symbols = input(\"Include symbols? (y/n): \").lower() == 'y'\n",
    "    \n",
    "    # Generate password inside main\n",
    "    password = generate_password(length, use_uppercase, use_digits, use_symbols)\n",
    "    print(f\"\\nGenerated Password: {password}\")\n",
    "\n",
    "if __name__ == \"__main__\":\n",
    "    main()"
   ]
  }
 ],
 "metadata": {
  "kernelspec": {
   "display_name": "Python [conda env:base] *",
   "language": "python",
   "name": "conda-base-py"
  },
  "language_info": {
   "codemirror_mode": {
    "name": "ipython",
    "version": 3
   },
   "file_extension": ".py",
   "mimetype": "text/x-python",
   "name": "python",
   "nbconvert_exporter": "python",
   "pygments_lexer": "ipython3",
   "version": "3.12.7"
  }
 },
 "nbformat": 4,
 "nbformat_minor": 5
}
